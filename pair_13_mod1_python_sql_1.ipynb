{
 "cells": [
  {
   "cell_type": "code",
   "execution_count": null,
   "metadata": {},
   "outputs": [],
   "source": [
    "#Antes de empezar a trabajar con la BBDD de Northwind, conozcamos un poco las BBDD que \n",
    "# tenemos en nuestro servidor. ¿Qué BBDD tenemos en nuestro servidor?"
   ]
  },
  {
   "cell_type": "code",
   "execution_count": 2,
   "metadata": {},
   "outputs": [
    {
     "name": "stdout",
     "output_type": "stream",
     "text": [
      "('BBDD_de_prueba',)\n",
      "('Iinsercion_de_datos',)\n",
      "('Zapateria',)\n",
      "('bbdd_nba',)\n",
      "('information_schema',)\n",
      "('leccion-1-sql',)\n",
      "('leccion-10-sql',)\n",
      "('leccion-11-sql',)\n",
      "('leccion-12-sql',)\n",
      "('leccion-13-sql',)\n",
      "('leccion-14-sql',)\n",
      "('leccion-2-sql',)\n",
      "('leccion-3-sql',)\n",
      "('leccion-4-sql',)\n",
      "('leccion-5-sql',)\n",
      "('leccion-6-sql',)\n",
      "('leccion-7-sql',)\n",
      "('leccion-8-sql',)\n",
      "('leccion-9-sql',)\n",
      "('mysql',)\n",
      "('northwing',)\n",
      "('performance_schema',)\n",
      "('proyecto_1_adalab',)\n",
      "('sakila',)\n",
      "('sys',)\n",
      "('tienda',)\n",
      "('world',)\n"
     ]
    }
   ],
   "source": [
    "import mysql.connector\n",
    "\n",
    "mydb = mysql.connector.connect(\n",
    "                  user='root', password='AlumnaAdalab',\n",
    "                  host='127.0.0.1',\n",
    "                  database='information_schema')\n",
    "\n",
    "mycursor = mydb.cursor()\n",
    "\n",
    "mycursor.execute(\"SHOW DATABASES\")\n",
    "\n",
    "for x in mycursor:\n",
    "  print(x)"
   ]
  },
  {
   "cell_type": "code",
   "execution_count": null,
   "metadata": {},
   "outputs": [],
   "source": [
    "#Empezemos a explorar la BBDD de Northwind. ¿Qué tablas componen la BBDD? \n",
    "# Recuerda que primero nos tendremos que conectar con la BBDD sobre la que queremos trabajar. \n",
    "# Guarda el resultado de los nombres de la tablas en una lista."
   ]
  },
  {
   "cell_type": "code",
   "execution_count": 20,
   "metadata": {},
   "outputs": [
    {
     "name": "stdout",
     "output_type": "stream",
     "text": [
      "('categories',)\n",
      "[('categories',)]\n",
      "('customer_customer_demo',)\n",
      "[('categories',), ('customer_customer_demo',)]\n",
      "('customer_demographics',)\n",
      "[('categories',), ('customer_customer_demo',), ('customer_demographics',)]\n",
      "('customers',)\n",
      "[('categories',), ('customer_customer_demo',), ('customer_demographics',), ('customers',)]\n",
      "('employee_territories',)\n",
      "[('categories',), ('customer_customer_demo',), ('customer_demographics',), ('customers',), ('employee_territories',)]\n",
      "('employees',)\n",
      "[('categories',), ('customer_customer_demo',), ('customer_demographics',), ('customers',), ('employee_territories',), ('employees',)]\n",
      "('order_details',)\n",
      "[('categories',), ('customer_customer_demo',), ('customer_demographics',), ('customers',), ('employee_territories',), ('employees',), ('order_details',)]\n",
      "('orders',)\n",
      "[('categories',), ('customer_customer_demo',), ('customer_demographics',), ('customers',), ('employee_territories',), ('employees',), ('order_details',), ('orders',)]\n",
      "('products',)\n",
      "[('categories',), ('customer_customer_demo',), ('customer_demographics',), ('customers',), ('employee_territories',), ('employees',), ('order_details',), ('orders',), ('products',)]\n",
      "('region',)\n",
      "[('categories',), ('customer_customer_demo',), ('customer_demographics',), ('customers',), ('employee_territories',), ('employees',), ('order_details',), ('orders',), ('products',), ('region',)]\n",
      "('shippers',)\n",
      "[('categories',), ('customer_customer_demo',), ('customer_demographics',), ('customers',), ('employee_territories',), ('employees',), ('order_details',), ('orders',), ('products',), ('region',), ('shippers',)]\n",
      "('suppliers',)\n",
      "[('categories',), ('customer_customer_demo',), ('customer_demographics',), ('customers',), ('employee_territories',), ('employees',), ('order_details',), ('orders',), ('products',), ('region',), ('shippers',), ('suppliers',)]\n",
      "('territories',)\n",
      "[('categories',), ('customer_customer_demo',), ('customer_demographics',), ('customers',), ('employee_territories',), ('employees',), ('order_details',), ('orders',), ('products',), ('region',), ('shippers',), ('suppliers',), ('territories',)]\n"
     ]
    }
   ],
   "source": [
    "import mysql.connector\n",
    "\n",
    "mydb = mysql.connector.connect(\n",
    "                  user='root', password='AlumnaAdalab',\n",
    "                  host='127.0.0.1',\n",
    "                  database='northwing')\n",
    "\n",
    "mycursor = mydb.cursor()\n",
    "\n",
    "mycursor.execute(\"SHOW TABLES\")\n",
    "lista_tablas=[]\n",
    "for x in mycursor:\n",
    "  lista_tablas.append(x)\n",
    "  print(x)\n",
    "  print(lista_tablas)"
   ]
  },
  {
   "cell_type": "code",
   "execution_count": null,
   "metadata": {},
   "outputs": [],
   "source": [
    "#¿Qué columnas tiene cada una de las tablas? Para esto tendréis que hacer un for loop para que \n",
    "# nos saque el resultado de todas las columnas."
   ]
  },
  {
   "cell_type": "code",
   "execution_count": 11,
   "metadata": {},
   "outputs": [
    {
     "name": "stdout",
     "output_type": "stream",
     "text": [
      "CMySQLCursor: SELECT * FROM COLUMNS WHERE TABLE_NAME =..\n"
     ]
    }
   ],
   "source": [
    "import mysql.connector\n",
    "import pandas as pd\n",
    "\n",
    "mydb = mysql.connector.connect(\n",
    "  host=\"localhost\",\n",
    "  user=\"root\",\n",
    "  password=\"AlumnaAdalab\",\n",
    "  database=\"information_schema\"\n",
    ")\n",
    "\n",
    "mycursor = mydb.cursor()\n",
    "query=\"SELECT * FROM COLUMNS WHERE TABLE_NAME = %s\"\n",
    "\n",
    "\n",
    "print(mycursor)\n",
    "\n",
    "for value in lista_tablas:\n",
    "  mycursor.execute(query,value)\n",
    "  print(value)\n",
    "\n",
    "\n",
    "#SELECT TABLE_NAME, COLUMN_NAME FROM COLUMNS WHERE TABLE_SCHEMA = 'northwind' ; \n"
   ]
  },
  {
   "cell_type": "code",
   "execution_count": 22,
   "metadata": {},
   "outputs": [],
   "source": [
    "#versión de alejandro\n",
    "import mysql.connector\n",
    "\n",
    "mydb = mysql.connector.connect(\n",
    "  host=\"localhost\",\n",
    "  user=\"root\",\n",
    "  password=\"AlumnaAdalab\",\n",
    "  database=\"INFORMATION_SCHEMA\"\n",
    ")\n",
    "\n",
    "mycursor = mydb.cursor()\n",
    "\n",
    "mycursor.execute(\"SELECT TABLE_NAME, COLUMN_NAME FROM COLUMNS WHERE TABLE_SCHEMA = 'northwind'\")\n",
    "\n",
    "for x in mycursor:\n",
    "  print(x)\n"
   ]
  },
  {
   "cell_type": "code",
   "execution_count": null,
   "metadata": {},
   "outputs": [],
   "source": [
    "#Hagamos unas queries facilitas:"
   ]
  },
  {
   "cell_type": "code",
   "execution_count": 17,
   "metadata": {},
   "outputs": [
    {
     "name": "stdout",
     "output_type": "stream",
     "text": [
      "(10865, 15810.0)\n"
     ]
    }
   ],
   "source": [
    "#Extraed el primer pedido donde se ha gastado más. Devolved el id del pedido y la cantidad gastada.\n",
    "mydb = mysql.connector.connect(\n",
    "user='root', password='AlumnaAdalab',\n",
    "host='127.0.0.1',\n",
    "database='northwing')\n",
    "\n",
    "mycursor = mydb.cursor()\n",
    "\n",
    "mycursor.execute(\"SELECT order_id, quantity*unit_price FROM order_details ORDER BY quantity*unit_price DESC\")\n",
    "\n",
    "myresult = mycursor.fetchone()\n",
    "print(myresult) \n"
   ]
  },
  {
   "cell_type": "code",
   "execution_count": null,
   "metadata": {},
   "outputs": [],
   "source": [
    "#Devuelve la misma query que en el anterior ejercicio, pero en este caso devuelve todos los resultados.\n",
    "mydb = mysql.connector.connect(\n",
    "user='root', password='AlumnaAdalab',\n",
    "host='127.0.0.1',\n",
    "database='northwing')\n",
    "\n",
    "mycursor = mydb.cursor()\n",
    "\n",
    "mycursor.execute(\"SELECT order_id, quantity*unit_price FROM order_details ORDER BY quantity*unit_price DESC\")\n",
    "\n",
    "myresult = mycursor.fetchall()\n",
    "print(myresult) \n",
    "\n",
    "\n"
   ]
  },
  {
   "cell_type": "code",
   "execution_count": null,
   "metadata": {},
   "outputs": [],
   "source": [
    "#Extraed el números de pedidos que se hayan hecho por dia. Devuelve los resultados en una dataframe.\n",
    "mydb = mysql.connector.connect(\n",
    "user='root', password='AlumnaAdalab',\n",
    "host='127.0.0.1',\n",
    "database='northwing')\n",
    "\n",
    "mycursor = mydb.cursor()\n",
    "\n",
    "mycursor.execute(\"SELECT COUNT(order_id), ORDER_DATE\n",
    "FROM orders\n",
    "group by order_date \")\n",
    "\n",
    "myresult = mycursor.fetchall()\n",
    "print(myresult) "
   ]
  },
  {
   "cell_type": "code",
   "execution_count": null,
   "metadata": {},
   "outputs": [],
   "source": [
    "#Para finalizar el ejercicio, desconectad la conexión con el servidor."
   ]
  }
 ],
 "metadata": {
  "kernelspec": {
   "display_name": "Python 3.9.7 ('base')",
   "language": "python",
   "name": "python3"
  },
  "language_info": {
   "codemirror_mode": {
    "name": "ipython",
    "version": 3
   },
   "file_extension": ".py",
   "mimetype": "text/x-python",
   "name": "python",
   "nbconvert_exporter": "python",
   "pygments_lexer": "ipython3",
   "version": "3.9.7"
  },
  "orig_nbformat": 4,
  "vscode": {
   "interpreter": {
    "hash": "c077ba4c986d0c674841b1bde68a642c04a6e440695030e9d779c08f2cbfb9f4"
   }
  }
 },
 "nbformat": 4,
 "nbformat_minor": 2
}
