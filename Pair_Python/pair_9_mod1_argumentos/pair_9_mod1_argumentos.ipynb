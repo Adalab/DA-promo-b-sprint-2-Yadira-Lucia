{
 "cells": [
  {
   "cell_type": "code",
   "execution_count": 15,
   "metadata": {},
   "outputs": [],
   "source": [
    "#EJERCICIO 1: Vamos a crear una \"Calculadora de puntos\". Tenéis que escribir una calculadora que reciba cadenas de caracteres como entrada. \n",
    "# Los puntos representarán el número de la ecuación. Habrá puntos en un lado, un operador, y puntos de nuevo después del oparador. \n",
    "# Los puntos y el operador estarán separados por un espacio.\n",
    "#Suma\n",
    "#Resta\n",
    "#Multiplicación\n",
    "#División entera\n",
    "#Vuestro trabajo\n",
    "#Tendréis que devolver un string que contenga puntos, tantos como devuelva la ecuación. Si el resultado es 0, devuelve la cadena vacía. \n",
    "# Cuando se trata de una resta, el primer número siempre será mayor o igual que el segundo.\n",
    "\n",
    "def calc (string):\n",
    "    \n",
    "    punto = \".\"\n",
    "    operadores = string.split(\" \")\n",
    "    \n",
    "    if operadores[1] == \"+\":\n",
    "        suma=len(operadores[0])+len(operadores[2])\n",
    "        return f'La suma es\" {suma*punto}'      \n",
    "    elif operadores[1] == \"*\":\n",
    "        multi=len(operadores[0])*len(operadores[2])\n",
    "        return f'La multiplicación es {multi*punto}'\n",
    "    elif operadores[1] == \"//\":\n",
    "        divi=len(operadores[0])//len(operadores[2])\n",
    "        return f'La división es {divi*punto}'\n",
    "    elif operadores[1] == \"-\" and (operadores[2]) <= (operadores[0]):\n",
    "        resta=len(operadores[0]) - len(operadores[2])\n",
    "        return f'La resta es {resta*punto}'\n",
    "    else:\n",
    "        return \"00\"\n",
    "\n"
   ]
  },
  {
   "cell_type": "code",
   "execution_count": 16,
   "metadata": {},
   "outputs": [
    {
     "name": "stdout",
     "output_type": "stream",
     "text": [
      "EJ: 1\n",
      "La suma es\" ....................\n",
      "EJ: 2\n",
      "La resta es ..\n",
      "EJ: 3\n",
      "La multiplicación es ...............\n",
      "EJ: 4\n",
      "La división es ..\n",
      "EJ: 5\n",
      "La división es \n",
      "EJ: 6\n",
      "La resta es \n"
     ]
    }
   ],
   "source": [
    "#comprobación\n",
    "\n",
    "print(\"EJ: 1\")\n",
    "print(calc(\"..... + ...............\"))\n",
    "print(\"EJ: 2\")\n",
    "print(calc(\"..... - ...\"))\n",
    "print(\"EJ: 3\")\n",
    "print(calc(\"..... * ...\"))\n",
    "print(\"EJ: 4\")\n",
    "print(calc(\"..... // ..\"))\n",
    "print(\"EJ: 5\")\n",
    "print(calc(\". // ..\"))\n",
    "print(\"EJ: 6\")\n",
    "print(calc(\".. - ..\"))"
   ]
  },
  {
   "cell_type": "code",
   "execution_count": 22,
   "metadata": {},
   "outputs": [],
   "source": [
    "#EJERCICIO 2:Te despides de tu mejor amigo, \"Nos vemos el próximo año\".\n",
    "#Vuestro trabajo: Dado un año, encuentra el próximo cumpleaños o el año más cercano en el que verás a tu mejor amigo.\n",
    "#Condiciones\n",
    "#-Año siempre positivo.\n",
    "#-El siguiente año que le felicites a tu mejor amigo no puede tener ningún dígito repetido.\n",
    "\n",
    "def felicitacion(año):\n",
    "    if año <0:\n",
    "        return \"Es un año negativo vuelve a intentarlo\"\n",
    "    while año:\n",
    "        año_string=str(año)\n",
    "        contador=0\n",
    "        acabar=0\n",
    "        for i in año_string:\n",
    "            if(año_string.index(i)!=contador):\n",
    "                año+=1\n",
    "                acabar=1\n",
    "                break\n",
    "            else:\n",
    "                contador+=1\n",
    "        if(acabar==0):\n",
    "            print(\"El siguiente año es:\" + str(año))\n",
    "            return\n",
    "    if año <0:\n",
    "        return \"Es un año negativo vuelve a intentarlo\""
   ]
  },
  {
   "cell_type": "code",
   "execution_count": 23,
   "metadata": {},
   "outputs": [
    {
     "name": "stdout",
     "output_type": "stream",
     "text": [
      "El siguiente año es:7801\n",
      "El siguiente año es:1023\n",
      "El siguiente año es:1203\n",
      "El siguiente año es:2013\n"
     ]
    },
    {
     "data": {
      "text/plain": [
       "'Es un año negativo vuelve a intentarlo'"
      ]
     },
     "execution_count": 23,
     "metadata": {},
     "output_type": "execute_result"
    }
   ],
   "source": [
    "#comprobación\n",
    "\n",
    "felicitacion(7712)\n",
    "felicitacion(1001)\n",
    "felicitacion(1123)\n",
    "felicitacion(2001)\n",
    "felicitacion(-1)"
   ]
  },
  {
   "cell_type": "code",
   "execution_count": 37,
   "metadata": {},
   "outputs": [],
   "source": [
    "#EJERCICIO 3:Tenéis que crear un función que chequee la vida de un evaporador que contiene un gas.\n",
    "#Conocemos el contenido del evaporador (contenido en ml), el porcentaje de gas que se pierde cada día y \n",
    "# el umbral en porcentaje a partir del cual el evaporador deja de ser útil. Todos los números serán estrictamente positivos.\n",
    "# Nota: el contenido no es, de hecho, necesario en el cuerpo de la función, podéis utilizarlo o no.\n",
    "\n",
    "def vida_evaporador(contenido, perdida, util):\n",
    "    \n",
    "    porcentaje_perdida = perdida / 100\n",
    "    porcentaje_util = util / 100\n",
    "    \n",
    "    umbral = contenido*porcentaje_util\n",
    "    dia = 0\n",
    "    \n",
    "    while contenido >= umbral:\n",
    "\n",
    "        contenido -= porcentaje_perdida*contenido\n",
    "        dia += 1\n",
    "    \n",
    "    return f'El evaporador tiene una vida útil de: {dia} días'"
   ]
  },
  {
   "cell_type": "code",
   "execution_count": 38,
   "metadata": {},
   "outputs": [
    {
     "name": "stdout",
     "output_type": "stream",
     "text": [
      "El evaporador tiene una vida útil de: 22 días\n",
      "El evaporador tiene una vida útil de: 29 días\n"
     ]
    }
   ],
   "source": [
    "#comprobación\n",
    "\n",
    "print(vida_evaporador(10,10,10))\n",
    "print(vida_evaporador(10,10,5))"
   ]
  },
  {
   "cell_type": "code",
   "execution_count": 40,
   "metadata": {},
   "outputs": [],
   "source": [
    "#EJERCICIO 4:Definid una función que tome como argumento un entero y devuelva True o False dependiendo de si el número es primo o no.\n",
    "#Según la Wikipedia, un número primo es un número natural mayor que 1 que no tiene divisores positivos más que 1 y él mismo.\n",
    "\n",
    "def eratóstenes(entero): \n",
    "    \n",
    "    # Rango de posibles divisores del argumento\n",
    "    \n",
    "    rango = range(1,entero + 1)\n",
    "  \n",
    "    # Buscamos los restos entre el número introducido y la lista de divisores\n",
    "    \n",
    "    lista_restos = []\n",
    "\n",
    "    for i in rango:\n",
    "        cociente = entero % i\n",
    "        lista_restos.append(cociente)\n",
    "\n",
    "    # Seleccionamos en una lista, aquellos restos que fueron ceros para identificar las divisiones exactas\n",
    "\n",
    "    lista_ceros = []\n",
    "\n",
    "    for i in (lista_restos):\n",
    "        if i == 0:\n",
    "            lista_ceros.append(i)\n",
    "\n",
    "    # Contamos el número de divisiones exactas que hubo, sólo pueden ser dos, entre 1 y sí mismo\n",
    "            \n",
    "    if len(lista_ceros) == 2:\n",
    "        entero is True \n",
    "        return print(f'{entero} es un número primo')  \n",
    "    else:\n",
    "        entero is False\n",
    "        return print(f'{entero} no es un número primo')  "
   ]
  },
  {
   "cell_type": "code",
   "execution_count": 47,
   "metadata": {},
   "outputs": [
    {
     "name": "stdout",
     "output_type": "stream",
     "text": [
      "0 no es un número primo\n",
      "None\n",
      "2 es un número primo\n",
      "None\n",
      "73 es un número primo\n",
      "None\n",
      "-1 no es un número primo\n",
      "None\n",
      "5099 es un número primo\n",
      "None\n"
     ]
    }
   ],
   "source": [
    "#comprobación\n",
    "\n",
    "print(eratóstenes(0))\n",
    "print(eratóstenes(2))\n",
    "print(eratóstenes(73))\n",
    "print(eratóstenes(-1))\n",
    "print(eratóstenes(5099))"
   ]
  },
  {
   "cell_type": "code",
   "execution_count": 26,
   "metadata": {},
   "outputs": [],
   "source": [
    "#EJERCICIO 5:Probablemente conozcais el sistema de \"me gusta\" de Facebook y otras páginas. \n",
    "# La gente puede dar \"me gusta\" a las publicaciones del blog, a las imágenes o a otros elementos.\n",
    "# Queremos crear el texto que debe mostrarse junto a dicho elemento. \n",
    "#Cread una función que toma una lista que contiene los nombres de las personas a las que les gusta un artículo. \n",
    "#Debe devolver el texto que se muestra en los ejemplos:"
   ]
  },
  {
   "cell_type": "code",
   "execution_count": 53,
   "metadata": {},
   "outputs": [],
   "source": [
    "def like(lista): \n",
    "    \n",
    "    if len(lista) == 0:\n",
    "        print(\"A nadie le gusta esto\")\n",
    "    \n",
    "    elif len(lista) == 1:\n",
    "        print(f'A {lista[0]} le gusta esto')\n",
    "        \n",
    "    elif len(lista) == 2:\n",
    "        print(f'A {lista[0]} y {lista[1]} les gusta esto')\n",
    "        \n",
    "    elif len(lista) == 3:\n",
    "        print(f'A {lista[0]}, {lista[1]} y {lista[2]} les gusta esto')\n",
    "        \n",
    "    else:\n",
    "        print(f'A {lista[0]}, {lista[1]} y {len(lista)-2} personas más les gusta esto')"
   ]
  },
  {
   "cell_type": "code",
   "execution_count": 54,
   "metadata": {},
   "outputs": [
    {
     "name": "stdout",
     "output_type": "stream",
     "text": [
      "A nadie le gusta esto\n",
      "None\n",
      "A Paola le gusta esto\n",
      "None\n",
      "A Jacoba y Alex les gusta esto\n",
      "None\n",
      "A María, Juana y Lola les gusta esto\n",
      "None\n",
      "A Alex, Jacoba y 2 personas más les gusta esto\n",
      "None\n",
      "A Alex, Jacoba y 3 personas más les gusta esto\n",
      "None\n"
     ]
    }
   ],
   "source": [
    "print(like([]))\n",
    "print(like([\"Paola\"]))\n",
    "print(like([\"Jacoba\", \"Alex\"]))\n",
    "print(like([\"María\", \"Juana\", \"Lola\"]))\n",
    "print(like([\"Alex\", \"Jacoba\", \"Lola\", \"Carmen\"]))\n",
    "print(like([\"Alex\", \"Jacoba\", \"Lola\", \"Carmen\", \"Mariana\"]))"
   ]
  }
 ],
 "metadata": {
  "kernelspec": {
   "display_name": "Python 3.9.7 ('base')",
   "language": "python",
   "name": "python3"
  },
  "language_info": {
   "codemirror_mode": {
    "name": "ipython",
    "version": 3
   },
   "file_extension": ".py",
   "mimetype": "text/x-python",
   "name": "python",
   "nbconvert_exporter": "python",
   "pygments_lexer": "ipython3",
   "version": "3.9.7"
  },
  "orig_nbformat": 4,
  "vscode": {
   "interpreter": {
    "hash": "fd3399778ecca89ccfd38c8963bbc048ff3198ccc7f9219d1f9dd0c6b6412bb5"
   }
  }
 },
 "nbformat": 4,
 "nbformat_minor": 2
}
