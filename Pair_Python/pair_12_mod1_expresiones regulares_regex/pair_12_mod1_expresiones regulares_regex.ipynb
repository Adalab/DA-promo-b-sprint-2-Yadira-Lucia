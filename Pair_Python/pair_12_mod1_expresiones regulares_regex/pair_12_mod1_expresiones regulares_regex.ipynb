{
 "cells": [
  {
   "cell_type": "code",
   "execution_count": 1,
   "metadata": {},
   "outputs": [],
   "source": [
    "import re\n",
    "import os\n",
    "import xml.etree.ElementTree as ET\n",
    "\n",
    "mi_ruta = os.getcwd()\n",
    "    "
   ]
  },
  {
   "cell_type": "code",
   "execution_count": 2,
   "metadata": {},
   "outputs": [],
   "source": [
    "# Ejercicio 1\n",
    "\n",
    "#Abrimos el archivo\n",
    "\n",
    "email=open('email.txt','r').read()\n",
    "\n",
    "#Creamos el patron para la busqueda del email,remitente y creamos el diccionario vacío\n",
    "\n",
    "patron_email= \"\\w+[@]\\w+\\.\\w+\"\n",
    "patron_remitente='\\\".*\\\"'\n",
    "resultado={}\n",
    "\n",
    "#Creamos la función\n",
    "\n",
    "def search_email(archivo):\n",
    "    info_remitente = str(re.findall('From:.*',archivo))\n",
    "    email_remitente= re.findall(patron_email,info_remitente)\n",
    "    cont=1\n",
    "    for i in email_remitente:\n",
    "        key= 'Email ' + str(cont)\n",
    "        resultado.update({key:i})\n",
    "        cont+=1\n",
    "    return resultado"
   ]
  },
  {
   "cell_type": "code",
   "execution_count": 3,
   "metadata": {},
   "outputs": [
    {
     "data": {
      "text/plain": [
       "{'Email 1': 'bensul2004nng@spinfinder.com',\n",
       " 'Email 2': 'james_ngola2002@maktoob.com'}"
      ]
     },
     "execution_count": 3,
     "metadata": {},
     "output_type": "execute_result"
    }
   ],
   "source": [
    "search_email(email)"
   ]
  },
  {
   "cell_type": "code",
   "execution_count": 4,
   "metadata": {},
   "outputs": [],
   "source": [
    "# Ejercicio 2\n",
    "\n",
    "#Extraer el nombre del remitente\n",
    "\n",
    "def search_usuario(archivo):\n",
    "    info_remitente = re.findall('From:.*',archivo)\n",
    "    cont2=1\n",
    "    for i in info_remitente:\n",
    "        remitente=re.findall(patron_remitente,i)\n",
    "        key= 'Remitente ' + str(cont2)\n",
    "        resultado.update({key:remitente})\n",
    "        cont2+=1\n",
    "    return resultado"
   ]
  },
  {
   "cell_type": "code",
   "execution_count": 5,
   "metadata": {},
   "outputs": [
    {
     "data": {
      "text/plain": [
       "{'Email 1': 'bensul2004nng@spinfinder.com',\n",
       " 'Email 2': 'james_ngola2002@maktoob.com',\n",
       " 'Remitente 1': ['\"Mr. Ben Suleman\"'],\n",
       " 'Remitente 2': ['\"MR. JAMES NGOLA.\"']}"
      ]
     },
     "execution_count": 5,
     "metadata": {},
     "output_type": "execute_result"
    }
   ],
   "source": [
    "search_usuario(email)"
   ]
  },
  {
   "cell_type": "code",
   "execution_count": 9,
   "metadata": {},
   "outputs": [],
   "source": [
    "# Ejercicio 3\n",
    "\n",
    "#Extraer la fecha en que se mandó\n",
    "\n",
    "def search_fecha(archivo):\n",
    "    date = re.findall('Date:.*',archivo)\n",
    "    cont3=1\n",
    "    for i in date:\n",
    "        key= 'Fecha' + str(cont3)\n",
    "        resultado.update({key:i})\n",
    "        cont3+=1\n",
    "    return resultado\n"
   ]
  },
  {
   "cell_type": "code",
   "execution_count": 10,
   "metadata": {},
   "outputs": [
    {
     "data": {
      "text/plain": [
       "{'Email 1': 'bensul2004nng@spinfinder.com',\n",
       " 'Email 2': 'james_ngola2002@maktoob.com',\n",
       " 'Remitente 1': ['\"Mr. Ben Suleman\"'],\n",
       " 'Remitente 2': ['\"MR. JAMES NGOLA.\"'],\n",
       " 'Fecha1': 'Date: Thu, 31 Oct 2002 05:10:00',\n",
       " 'Fecha2': 'Date: Thu, 31 Oct 2002 02:38:20 +0000'}"
      ]
     },
     "execution_count": 10,
     "metadata": {},
     "output_type": "execute_result"
    }
   ],
   "source": [
    "search_fecha(email)"
   ]
  },
  {
   "cell_type": "code",
   "execution_count": 11,
   "metadata": {},
   "outputs": [],
   "source": [
    "# Ejercicio 4\n",
    "\n",
    "#Extraer el asunto del email\n",
    "\n",
    "def search_asunto (archivo):\n",
    "    subject=re.findall('Subject:.*',email)\n",
    "    cont4=1\n",
    "    for i in subject:\n",
    "        asunto=i\n",
    "        key= 'Asunto' + str(cont4)\n",
    "        resultado.update({key:i})\n",
    "        cont4+=1\n",
    "    return resultado"
   ]
  },
  {
   "cell_type": "code",
   "execution_count": 12,
   "metadata": {},
   "outputs": [
    {
     "data": {
      "text/plain": [
       "{'Email 1': 'bensul2004nng@spinfinder.com',\n",
       " 'Email 2': 'james_ngola2002@maktoob.com',\n",
       " 'Remitente 1': ['\"Mr. Ben Suleman\"'],\n",
       " 'Remitente 2': ['\"MR. JAMES NGOLA.\"'],\n",
       " 'Fecha1': 'Date: Thu, 31 Oct 2002 05:10:00',\n",
       " 'Fecha2': 'Date: Thu, 31 Oct 2002 02:38:20 +0000',\n",
       " 'Asunto1': 'Subject: URGENT ASSISTANCE /RELATIONSHIP (P)',\n",
       " 'Asunto2': 'Subject: URGENT BUSINESS ASSISTANCE AND PARTNERSHIP'}"
      ]
     },
     "execution_count": 12,
     "metadata": {},
     "output_type": "execute_result"
    }
   ],
   "source": [
    "search_asunto(email)"
   ]
  }
 ],
 "metadata": {
  "kernelspec": {
   "display_name": "Python 3.9.7 ('base')",
   "language": "python",
   "name": "python3"
  },
  "language_info": {
   "codemirror_mode": {
    "name": "ipython",
    "version": 3
   },
   "file_extension": ".py",
   "mimetype": "text/x-python",
   "name": "python",
   "nbconvert_exporter": "python",
   "pygments_lexer": "ipython3",
   "version": "3.9.7"
  },
  "orig_nbformat": 4,
  "vscode": {
   "interpreter": {
    "hash": "fd3399778ecca89ccfd38c8963bbc048ff3198ccc7f9219d1f9dd0c6b6412bb5"
   }
  }
 },
 "nbformat": 4,
 "nbformat_minor": 2
}
