{
 "cells": [
  {
   "cell_type": "code",
   "execution_count": 2,
   "metadata": {},
   "outputs": [],
   "source": [
    "## Ejercicio 1. Cread una función que reciba 2 números enteros en forma de string como entrada,\n",
    "# y dé como resultado la suma (también en forma de string)\n",
    "# Si los dos parámetros que recibe la función son strings vacíos la función nos debe devolver \"0\"\n",
    "# Si el primer parámetro es un string vacío, la función nos devuelve el valor del segundo parámetro y viceversa.\n",
    "\n",
    "def sumar_enteros(a, b):\n",
    "    \n",
    "    if len(a) == 0 and len(b) == 0:\n",
    "        return \"0\"\n",
    "    elif len(a) == 0 and len(b) == 0:\n",
    "        return b\n",
    "    elif len(b) == 0 and len(a) == 1:\n",
    "        return a\n",
    "    else:\n",
    "        return str(int(a) + int(b))  \n",
    "    "
   ]
  },
  {
   "cell_type": "code",
   "execution_count": 3,
   "metadata": {},
   "outputs": [
    {
     "data": {
      "text/plain": [
       "'9'"
      ]
     },
     "execution_count": 3,
     "metadata": {},
     "output_type": "execute_result"
    }
   ],
   "source": [
    "sumar_enteros(\"4\",\"5\")"
   ]
  },
  {
   "cell_type": "code",
   "execution_count": 4,
   "metadata": {},
   "outputs": [
    {
     "data": {
      "text/plain": [
       "'39'"
      ]
     },
     "execution_count": 4,
     "metadata": {},
     "output_type": "execute_result"
    }
   ],
   "source": [
    "sumar_enteros(\"34\",\"5\")"
   ]
  },
  {
   "cell_type": "code",
   "execution_count": 5,
   "metadata": {},
   "outputs": [
    {
     "data": {
      "text/plain": [
       "'0'"
      ]
     },
     "execution_count": 5,
     "metadata": {},
     "output_type": "execute_result"
    }
   ],
   "source": [
    "sumar_enteros(\"\",\"\")"
   ]
  },
  {
   "cell_type": "code",
   "execution_count": 6,
   "metadata": {},
   "outputs": [
    {
     "data": {
      "text/plain": [
       "'2'"
      ]
     },
     "execution_count": 6,
     "metadata": {},
     "output_type": "execute_result"
    }
   ],
   "source": [
    "sumar_enteros(\"2\",\"\")"
   ]
  },
  {
   "cell_type": "code",
   "execution_count": 8,
   "metadata": {},
   "outputs": [],
   "source": [
    "## Ejercicio 2. Generar una función que compare listas.\n",
    "\n",
    "def comparar_listas(lista1, lista2):\n",
    "    \n",
    "    result = zip(lista1, lista2)\n",
    "    lista3 = list(result)\n",
    "    lista4 = []\n",
    "\n",
    "    for i in lista3:\n",
    "        (max(i))\n",
    "        lista4.append(max(i))\n",
    "    \n",
    "    return (lista4)"
   ]
  },
  {
   "cell_type": "code",
   "execution_count": 9,
   "metadata": {},
   "outputs": [
    {
     "data": {
      "text/plain": [
       "[23, 64, 53, 17, 88]"
      ]
     },
     "execution_count": 9,
     "metadata": {},
     "output_type": "execute_result"
    }
   ],
   "source": [
    "comparar_listas([13,64,15,17,88],[23,14,53,17,80])"
   ]
  },
  {
   "cell_type": "code",
   "execution_count": 12,
   "metadata": {},
   "outputs": [],
   "source": [
    "## Ejercicio 3. El objetivo de este ejercicio es convertir un string en un nuevo string en el que cada carácter \n",
    "# del nuevo string es \"(\" si ese carácter aparece sólo una vez en el string original, o \")\" si ese carácter aparece \n",
    "# más de una vez en el string. \n",
    "# Nuestro código no tiene que ser case sensitive, es decir, si hay una letra en mayúscula y en minúscula cuenta como dos apariciones.\n",
    "\n",
    "def string1 (a):\n",
    "    palabra = a.lower()\n",
    "    listadeveces=[]\n",
    "    parentesis=[]\n",
    "    respuesta=\"\"\n",
    "    for i in palabra:\n",
    "        num = palabra.count(i)\n",
    "        listadeveces.append(num)\n",
    "    for veces in listadeveces:\n",
    "        if veces >1:\n",
    "            parentesis.append(\")\")\n",
    "        else:\n",
    "            parentesis.append(\"(\")\n",
    "    return f\"{a} => {respuesta.join(parentesis)}\"\n",
    "\n",
    "\n"
   ]
  },
  {
   "cell_type": "code",
   "execution_count": 13,
   "metadata": {},
   "outputs": [
    {
     "name": "stdout",
     "output_type": "stream",
     "text": [
      " => \n",
      "din => (((\n",
      "Success => )())())\n",
      "(( @ => ))((\n",
      "Ocvl@GamFLAFkixkS => ((()(()()))))(()(\n"
     ]
    }
   ],
   "source": [
    "print(string1(\"\"))\n",
    "print(string1(\"din\"))\n",
    "print(string1(\"Success\"))\n",
    "print(string1(\"(( @\"))\n",
    "print(string1(\"Ocvl@GamFLAFkixkS\"))"
   ]
  },
  {
   "cell_type": "code",
   "execution_count": 18,
   "metadata": {},
   "outputs": [
    {
     "name": "stdout",
     "output_type": "stream",
     "text": [
      "Receta1:\n",
      "Tenemos ingredientes para hacer 2 pasteles\n",
      "Receta2:\n",
      "No tenemos los ingredientes\n",
      "Podemos hacer 0 pasteles\n"
     ]
    }
   ],
   "source": [
    "## Ejercicio 4. A Pete le gusta hacer pasteles. Tiene algunas recetas e ingredientes. \n",
    "# Desgraciadamente, no se le dan bien las matemáticas. \n",
    "# ¿Puedes ayudarle a averiguar cuántas tartas puede hacer teniendo en cuenta sus recetas?\n",
    "\n",
    "receta1={'flour': 500, 'sugar': 200, 'eggs': 1}\n",
    "ingredientes1={'flour': 1200, 'sugar': 1200, 'eggs': 5, 'milk': 200}\n",
    "receta2={'apples': 3, 'flour': 300, 'sugar': 150, 'milk': 100, 'oil': 100}\n",
    "ingredientes2={'sugar': 500, 'flour': 2000, 'milk': 2000}\n",
    "\n",
    "def pasteles (receta,despensa):\n",
    "    horneando=[]\n",
    "    for bizcochos in receta:\n",
    "        if bizcochos in despensa.keys():\n",
    "            ingredientes_quetengo=despensa.get(bizcochos)\n",
    "            ing_receta=receta.get(bizcochos)\n",
    "            pastel=int(ingredientes_quetengo/ing_receta)\n",
    "            horneando.append(pastel)\n",
    "        else:\n",
    "            print(\"No tenemos los ingredientes\")\n",
    "            return \"Podemos hacer 0 pasteles\"\n",
    "    return f\"Tenemos ingredientes para hacer {min(horneando)} pasteles\"\n",
    "\n",
    "print(\"Receta1:\")\n",
    "print(pasteles(receta1,ingredientes1))\n",
    "print(\"Receta2:\")\n",
    "print(pasteles(receta2,ingredientes2))"
   ]
  },
  {
   "cell_type": "code",
   "execution_count": 19,
   "metadata": {},
   "outputs": [],
   "source": [
    "## Ejercicio 5. Escribid una función que va a ser una calculadora. La lista recibirá dos parámetros:\n",
    "# una lista de números y un string con la operación que queremos hacer (puede ser \"*\", \"+\")\n",
    "\n",
    "\n",
    "def calculadora(lista, operador):\n",
    "    \n",
    "    #Variables para las operaciones\n",
    "    suma = 0\n",
    "    multi = 1\n",
    "    \n",
    "    #Bucle para la suma\n",
    "    \n",
    "    if operador == \"+\":\n",
    "        for i in lista:\n",
    "            suma = i + suma\n",
    "    \n",
    "        return print(suma)\n",
    "    \n",
    "    #Bucle para la multiplicación\n",
    "        \n",
    "    elif operador == \"*\":\n",
    "        for i in lista:\n",
    "            multi = i * multi\n",
    "        \n",
    "        return print(multi)\n",
    "    \n",
    "    #Operaciones no válidas\n",
    "    else:\n",
    "        return print(\"Lo siento, necesito que me pases una operación válida\")\n",
    "\n",
    "\n"
   ]
  },
  {
   "cell_type": "code",
   "execution_count": 20,
   "metadata": {},
   "outputs": [
    {
     "name": "stdout",
     "output_type": "stream",
     "text": [
      "12936\n"
     ]
    }
   ],
   "source": [
    "# Comprobaciones\n",
    "\n",
    "calculadora([11, 6, 98, 1, 2] , \"*\")"
   ]
  },
  {
   "cell_type": "code",
   "execution_count": 111,
   "metadata": {},
   "outputs": [
    {
     "name": "stdout",
     "output_type": "stream",
     "text": [
      "214\n"
     ]
    }
   ],
   "source": [
    "# Comprobaciones\n",
    "\n",
    "calculadora([23,34, 56, 11, 90] , \"+\")"
   ]
  },
  {
   "cell_type": "code",
   "execution_count": 112,
   "metadata": {},
   "outputs": [
    {
     "name": "stdout",
     "output_type": "stream",
     "text": [
      "Lo siento, necesito que me pases una operación válida\n"
     ]
    }
   ],
   "source": [
    "# Comprobaciones\n",
    "\n",
    "calculadora([23, 4,109 , 94, 77] , \"-\")"
   ]
  }
 ],
 "metadata": {
  "kernelspec": {
   "display_name": "Python 3.9.7 ('base')",
   "language": "python",
   "name": "python3"
  },
  "language_info": {
   "codemirror_mode": {
    "name": "ipython",
    "version": 3
   },
   "file_extension": ".py",
   "mimetype": "text/x-python",
   "name": "python",
   "nbconvert_exporter": "python",
   "pygments_lexer": "ipython3",
   "version": "3.9.7"
  },
  "orig_nbformat": 4,
  "vscode": {
   "interpreter": {
    "hash": "fd3399778ecca89ccfd38c8963bbc048ff3198ccc7f9219d1f9dd0c6b6412bb5"
   }
  }
 },
 "nbformat": 4,
 "nbformat_minor": 2
}
