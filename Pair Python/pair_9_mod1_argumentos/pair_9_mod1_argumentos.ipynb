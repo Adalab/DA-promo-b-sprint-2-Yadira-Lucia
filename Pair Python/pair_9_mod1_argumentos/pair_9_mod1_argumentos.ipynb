{
 "cells": [
  {
   "cell_type": "code",
   "execution_count": 32,
   "metadata": {},
   "outputs": [
    {
     "name": "stdout",
     "output_type": "stream",
     "text": [
      "6\n",
      "2\n",
      "8\n",
      "2\n"
     ]
    }
   ],
   "source": [
    "#EJERCICIO 1: Vamos a crear una \"Calculadora de puntos\". Tenéis que escribir una calculadora que reciba cadenas de caracteres como entrada. \n",
    "# Los puntos representarán el número de la ecuación. Habrá puntos en un lado, un operador, y puntos de nuevo después del oparador. \n",
    "# Los puntos y el operador estarán separados por un espacio.\n",
    "#Suma\n",
    "#Resta\n",
    "#Multiplicación\n",
    "#División entera\n",
    "#Vuestro trabajo\n",
    "#Tendréis que devolver un string que contenga puntos, tantos como devuelva la ecuación. Si el resultado es 0, devuelve la cadena vacía. \n",
    "# Cuando se trata de una resta, el primer número siempre será mayor o igual que el segundo.\n",
    "\n",
    "\n",
    "punto=\".\"\n",
    "def calc (string3,operador,string4):\n",
    "    if operador==\"+\":\n",
    "        suma=len(string3)+len(string4)\n",
    "        return suma*punto        \n",
    "    elif operador == \"*\":\n",
    "        multi=len(string3)*len(string4)\n",
    "        return multi*punto\n",
    "    elif operador == \"//\":\n",
    "        divi=len(string3)//len(string4)\n",
    "        return divi*punto\n",
    "    elif operador == \"-\" and string3>=string4:\n",
    "        resta=len(string3)-len(string4)\n",
    "        return resta*punto\n",
    "    else:\n",
    "        return \"00\"\n",
    "        \n",
    "\n"
   ]
  },
  {
   "cell_type": "code",
   "execution_count": 37,
   "metadata": {},
   "outputs": [
    {
     "data": {
      "text/plain": [
       "['....', '+', '..']"
      ]
     },
     "execution_count": 37,
     "metadata": {},
     "output_type": "execute_result"
    }
   ],
   "source": [
    "string1=\".... + ..\"\n",
    "string1.split(\" \")"
   ]
  },
  {
   "cell_type": "code",
   "execution_count": 35,
   "metadata": {},
   "outputs": [
    {
     "data": {
      "text/plain": [
       "'.'"
      ]
     },
     "execution_count": 35,
     "metadata": {},
     "output_type": "execute_result"
    }
   ],
   "source": [
    "calc(\"....\", \"//\",\"...\")"
   ]
  },
  {
   "cell_type": "code",
   "execution_count": null,
   "metadata": {},
   "outputs": [],
   "source": [
    "#EJERCICIO 2:Te despides de tu mejor amigo, \"Nos vemos el próximo año\".\n",
    "#Vuestro trabajo: Dado un año, encuentra el próximo cumpleaños o el año más cercano en el que verás a tu mejor amigo.\n",
    "#Condiciones\n",
    "#-Año siempre positivo.\n",
    "#-El siguiente año que le felicites a tu mejor amigo no puede tener ningún dígito repetido.\n",
    "\n",
    "\n",
    "\n"
   ]
  },
  {
   "cell_type": "code",
   "execution_count": null,
   "metadata": {},
   "outputs": [],
   "source": [
    "#EJERCICIO 3:Tenéis que crear un función que chequee la vida de un evaporador que contiene un gas.\n",
    "#Conocemos el contenido del evaporador (contenido en ml), el porcentaje de gas que se pierde cada día y \n",
    "# el umbral en porcentaje a partir del cual el evaporador deja de ser útil. Todos los números serán estrictamente positivos.\n",
    "# Nota: el contenido no es, de hecho, necesario en el cuerpo de la función, podéis utilizarlo o no."
   ]
  },
  {
   "cell_type": "code",
   "execution_count": null,
   "metadata": {},
   "outputs": [],
   "source": [
    "#EJERCICIO 4:Definid una función que tome como argumento un entero y devuelva True o False dependiendo de si el número es primo o no.\n",
    "#Según la Wikipedia, un número primo es un número natural mayor que 1 que no tiene divisores positivos más que 1 y él mismo."
   ]
  },
  {
   "cell_type": "code",
   "execution_count": null,
   "metadata": {},
   "outputs": [],
   "source": [
    "#EJERCICIO 5:Probablemente conozcais el sistema de \"me gusta\" de Facebook y otras páginas. \n",
    "# La gente puede dar \"me gusta\" a las publicaciones del blog, a las imágenes o a otros elementos.\n",
    "# Queremos crear el texto que debe mostrarse junto a dicho elemento. \n",
    "#Cread una función que toma una lista que contiene los nombres de las personas a las que les gusta un artículo. \n",
    "#Debe devolver el texto que se muestra en los ejemplos:"
   ]
  }
 ],
 "metadata": {
  "kernelspec": {
   "display_name": "Python 3.9.7 ('base')",
   "language": "python",
   "name": "python3"
  },
  "language_info": {
   "codemirror_mode": {
    "name": "ipython",
    "version": 3
   },
   "file_extension": ".py",
   "mimetype": "text/x-python",
   "name": "python",
   "nbconvert_exporter": "python",
   "pygments_lexer": "ipython3",
   "version": "3.9.7"
  },
  "orig_nbformat": 4,
  "vscode": {
   "interpreter": {
    "hash": "c077ba4c986d0c674841b1bde68a642c04a6e440695030e9d779c08f2cbfb9f4"
   }
  }
 },
 "nbformat": 4,
 "nbformat_minor": 2
}
