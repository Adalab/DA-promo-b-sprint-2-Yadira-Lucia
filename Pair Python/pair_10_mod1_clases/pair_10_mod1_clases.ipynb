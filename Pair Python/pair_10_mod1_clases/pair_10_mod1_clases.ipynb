{
 "cells": [
  {
   "cell_type": "code",
   "execution_count": 35,
   "metadata": {},
   "outputs": [],
   "source": [
    "## Ejercicio de construir clases\n",
    "\n",
    "# Creamos la clase\n",
    "\n",
    "class Empleados:\n",
    "    def __init__(self, nombre, apellido, edad, puesto, año, vacaciones, herramientas):\n",
    "        \n",
    "        self.nombre = nombre\n",
    "        self.apellido = apellido\n",
    "        self.edad = edad\n",
    "        self.puesto = puesto\n",
    "        self.año = año\n",
    "        self.vacaciones = vacaciones\n",
    "        self.herramientas = herramientas\n",
    "   \n",
    "   # Definimos nuestro primer método: describir al empleado\n",
    "    \n",
    "    def descripcion(self):\n",
    "        print(\"El/ella es\", self.nombre, self.apellido, \"quien lleva con nosotros en la empresa desde\", self.año, \"además este año le quedan\", self.vacaciones)\n",
    "        \n",
    "    # Definimos nuestro segundo método: calcular las vacaciones\n",
    "     \n",
    "    def calculo_vacaciones(self):\n",
    "        \n",
    "        vacaciones_gastadas = int(input(\"¿Cuántos días te fuiste de vacaciones\"))\n",
    "        self.vacaciones = self.vacaciones - vacaciones_gastadas\n",
    "        vacaciones_solicitadas = int(input(\"¿Cuántos días te quieres ir de vacaciones\"))\n",
    "        \n",
    "        if self.vacaciones == 0:\n",
    "            return \"Se te han acabado las vacaciones\"\n",
    "        elif vacaciones_solicitadas > self.vacaciones:\n",
    "            return \"No te puedes ir tantos días de vacaciones\"\n",
    "        else:\n",
    "            return f'Te quedan {self.vacaciones} días de vacaciones'\n",
    "        \n",
    "    \n",
    "\n",
    "\n",
    "\n",
    "\n",
    "\n",
    "Manuela = Empleados(\"Manuela\", \"García\", 43, \"secretaria\", 2015, 25, [\"outlook\", \"word\"])      \n",
    "                \n",
    "                \n",
    "                \n",
    "                \n",
    "                \n",
    "                "
   ]
  },
  {
   "cell_type": "code",
   "execution_count": 37,
   "metadata": {},
   "outputs": [
    {
     "data": {
      "text/plain": [
       "'Te quedan 15 días de vacaciones'"
      ]
     },
     "execution_count": 37,
     "metadata": {},
     "output_type": "execute_result"
    }
   ],
   "source": [
    "Manuela.calculo_vacaciones()"
   ]
  },
  {
   "cell_type": "code",
   "execution_count": 12,
   "metadata": {},
   "outputs": [
    {
     "data": {
      "text/plain": [
       "['outlook', 'word']"
      ]
     },
     "execution_count": 12,
     "metadata": {},
     "output_type": "execute_result"
    }
   ],
   "source": [
    "Manuela.herramientas"
   ]
  },
  {
   "cell_type": "code",
   "execution_count": 36,
   "metadata": {},
   "outputs": [
    {
     "name": "stdout",
     "output_type": "stream",
     "text": [
      "El/ella es Manuela García quien lleva con nosotros en la empresa desde 2015 además este año le quedan 25\n"
     ]
    }
   ],
   "source": [
    "Manuela.descripcion()"
   ]
  }
 ],
 "metadata": {
  "kernelspec": {
   "display_name": "Python 3.9.7 ('base')",
   "language": "python",
   "name": "python3"
  },
  "language_info": {
   "codemirror_mode": {
    "name": "ipython",
    "version": 3
   },
   "file_extension": ".py",
   "mimetype": "text/x-python",
   "name": "python",
   "nbconvert_exporter": "python",
   "pygments_lexer": "ipython3",
   "version": "3.9.7"
  },
  "orig_nbformat": 4,
  "vscode": {
   "interpreter": {
    "hash": "fd3399778ecca89ccfd38c8963bbc048ff3198ccc7f9219d1f9dd0c6b6412bb5"
   }
  }
 },
 "nbformat": 4,
 "nbformat_minor": 2
}
