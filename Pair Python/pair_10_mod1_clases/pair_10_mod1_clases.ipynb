{
 "cells": [
  {
   "cell_type": "code",
   "execution_count": 9,
   "metadata": {},
   "outputs": [],
   "source": [
    "## Ejercicio de construir clases\n",
    "\n",
    "# Creamos la clase\n",
    "\n",
    "class Empleados:\n",
    "    def __init__(self, nombre, apellido, edad, puesto, año, vacaciones, herramientas):\n",
    "        \n",
    "        self.nombre = nombre\n",
    "        self.apellido = apellido\n",
    "        self.edad = edad\n",
    "        self.puesto = puesto\n",
    "        self.año = año\n",
    "        self.vacaciones = vacaciones\n",
    "        self.herramientas = herramientas\n",
    "   \n",
    "   # Definimos nuestro primer método: describir al empleado\n",
    "    \n",
    "    def descripcion(self):\n",
    "        print(\"El/ella es\", self.nombre, self.apellido, \"quien lleva con nosotros en la empresa desde\", self.año, \"además este año le quedan\", self.vacaciones)\n",
    "        \n",
    "    # Definimos nuestro segundo método: calcular las vacaciones\n",
    "     \n",
    "    def calculo_vacaciones(self):\n",
    "        \n",
    "        vacaciones_gastadas = int(input(\"¿Cuántos días te fuiste de vacaciones\"))\n",
    "        self.vacaciones = self.vacaciones - vacaciones_gastadas\n",
    "        vacaciones_solicitadas = int(input(\"¿Cuántos días te quieres ir de vacaciones\"))\n",
    "        \n",
    "        if self.vacaciones == 0:\n",
    "            return \"Se te han acabado las vacaciones\"\n",
    "        elif vacaciones_solicitadas > self.vacaciones:\n",
    "            return \"No te puedes ir tantos días de vacaciones\"\n",
    "        else:\n",
    "            return f'Te quedan {self.vacaciones} días de vacaciones'\n",
    "        \n",
    "            # Definimos nuestro tercer método: cambiar la posición\n",
    "    \n",
    "    def cambiando_posicion(self):\n",
    "        \n",
    "        for i in self.herramientas:\n",
    "            if i == \"phyton\":\n",
    "                return print(\"¡bien hecho!\")\n",
    "            elif i == \"excel\":\n",
    "                return print(\"Excel no es la mejor herramienta, pásate a python\")\n",
    "        \n",
    "    \n",
    "# Creamos una instancia para Manuela\n",
    "\n",
    "Manuela = Empleados(\"Manuela\", \"García\", 43, \"secretaria\", 2015, 25, [\"outlook\", \"word\", \"excel\"])            \n",
    "                \n",
    "                "
   ]
  },
  {
   "cell_type": "code",
   "execution_count": 2,
   "metadata": {},
   "outputs": [
    {
     "data": {
      "text/plain": [
       "'Te quedan 23 días de vacaciones'"
      ]
     },
     "execution_count": 2,
     "metadata": {},
     "output_type": "execute_result"
    }
   ],
   "source": [
    "#comprobaciones\n",
    "\n",
    "Manuela.calculo_vacaciones()"
   ]
  },
  {
   "cell_type": "code",
   "execution_count": 4,
   "metadata": {},
   "outputs": [
    {
     "name": "stdout",
     "output_type": "stream",
     "text": [
      "El/ella es Manuela García quien lleva con nosotros en la empresa desde 2015 además este año le quedan 23\n"
     ]
    }
   ],
   "source": [
    "Manuela.descripcion()"
   ]
  },
  {
   "cell_type": "code",
   "execution_count": 10,
   "metadata": {},
   "outputs": [
    {
     "name": "stdout",
     "output_type": "stream",
     "text": [
      "¡bien hecho!\n"
     ]
    }
   ],
   "source": [
    "Manuela.cambiando_posicion()"
   ]
  }
 ],
 "metadata": {
  "kernelspec": {
   "display_name": "Python 3.9.7 ('base')",
   "language": "python",
   "name": "python3"
  },
  "language_info": {
   "codemirror_mode": {
    "name": "ipython",
    "version": 3
   },
   "file_extension": ".py",
   "mimetype": "text/x-python",
   "name": "python",
   "nbconvert_exporter": "python",
   "pygments_lexer": "ipython3",
   "version": "3.9.7"
  },
  "orig_nbformat": 4,
  "vscode": {
   "interpreter": {
    "hash": "fd3399778ecca89ccfd38c8963bbc048ff3198ccc7f9219d1f9dd0c6b6412bb5"
   }
  }
 },
 "nbformat": 4,
 "nbformat_minor": 2
}
