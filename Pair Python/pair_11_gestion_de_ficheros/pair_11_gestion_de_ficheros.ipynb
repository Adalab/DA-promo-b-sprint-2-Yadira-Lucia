{
 "cells": [
  {
   "cell_type": "code",
   "execution_count": 1,
   "metadata": {},
   "outputs": [],
   "source": [
    "import os\n"
   ]
  },
  {
   "cell_type": "code",
   "execution_count": 14,
   "metadata": {},
   "outputs": [
    {
     "name": "stdout",
     "output_type": "stream",
     "text": [
      "/home/yadi/Documentos/adalab/modulo 1/DA-promo-b-sprint-2-Yadira-Lucia\n"
     ]
    }
   ],
   "source": [
    "#EJERCICIO 1 Nos muestre en que carpeta estamos trabajando.\n",
    "mi_ruta=os.getcwd()\n",
    "print(mi_ruta)"
   ]
  },
  {
   "cell_type": "code",
   "execution_count": 10,
   "metadata": {},
   "outputs": [
    {
     "name": "stdout",
     "output_type": "stream",
     "text": [
      "La carpeta ya existe\n"
     ]
    }
   ],
   "source": [
    "#ejercicio 2: Cree una carpeta que se llame \"aprendiendo-ficheros\". ⚠️ \n",
    "# Tened en cuenta que si la carpeta ya existe no la podemos crear, \n",
    "# nos devolverá un error. Incluye en la función un programa \n",
    "# que evite que nos de un error si la carpeta ya existe.\n",
    "\n",
    "try:\n",
    "    os.mkdir(\"aprendiendo_ficheros\")\n",
    "except FileExistsError:\n",
    "    print(\"La carpeta ya existe\")"
   ]
  },
  {
   "cell_type": "code",
   "execution_count": 21,
   "metadata": {},
   "outputs": [
    {
     "data": {
      "text/plain": [
       "'/home/yadi/Documentos/adalab/modulo 1/DA-promo-b-sprint-2-Yadira-Lucia/aprendiendo_ficheros'"
      ]
     },
     "execution_count": 21,
     "metadata": {},
     "output_type": "execute_result"
    }
   ],
   "source": [
    "os.chdir(\"/home/yadi/Documentos/adalab/modulo 1/DA-promo-b-sprint-2-Yadira-Lucia/aprendiendo_ficheros\")\n",
    "os.getcwd()"
   ]
  },
  {
   "cell_type": "code",
   "execution_count": 28,
   "metadata": {},
   "outputs": [
    {
     "data": {
      "text/plain": [
       "'/home/yadi/Documentos/adalab/modulo 1/DA-promo-b-sprint-2-Yadira-Lucia/aprendiendo_ficheros/datos'"
      ]
     },
     "execution_count": 28,
     "metadata": {},
     "output_type": "execute_result"
    }
   ],
   "source": [
    "#EJERCICIO 3: Cree otra carpeta que se llame \"datos\" dentro de la carpeta \"aprendiendo-ficheros\". En esta carpeta \"datos\" \n",
    "# guardaremos el fichero \"saludo.txt\" que os habéis descargado.\n",
    "\n",
    "#os.mkdir(\"datos\")\n",
    "mi_ruta2=os.getcwd()\n",
    "mi_ruta2"
   ]
  },
  {
   "cell_type": "code",
   "execution_count": 33,
   "metadata": {},
   "outputs": [
    {
     "name": "stdout",
     "output_type": "stream",
     "text": [
      "None\n"
     ]
    },
    {
     "data": {
      "text/plain": [
       "['practica yadi ciclo for',\n",
       " 'clases_db',\n",
       " 'modulo 1',\n",
       " 'apuntes python modulo 1.odp',\n",
       " '.~lock.apuntes python modulo 1.odp#',\n",
       " 'area de trabajo del múdolo1.code-workspace',\n",
       " 'varios']"
      ]
     },
     "execution_count": 33,
     "metadata": {},
     "output_type": "execute_result"
    }
   ],
   "source": [
    "print(os.chdir(\"../\"))\n",
    "\n",
    "os.listdir()"
   ]
  },
  {
   "cell_type": "code",
   "execution_count": 41,
   "metadata": {},
   "outputs": [],
   "source": [
    "def crear_carpetas ():\n",
    "    print(os.getcwd())\n",
    "    \n",
    "    \n",
    "    "
   ]
  },
  {
   "cell_type": "code",
   "execution_count": 40,
   "metadata": {},
   "outputs": [
    {
     "name": "stdout",
     "output_type": "stream",
     "text": [
      "/home/yadi/Documentos/adalab\n"
     ]
    }
   ],
   "source": [
    "crear_carpetas()"
   ]
  }
 ],
 "metadata": {
  "kernelspec": {
   "display_name": "Python 3.10.4 64-bit",
   "language": "python",
   "name": "python3"
  },
  "language_info": {
   "codemirror_mode": {
    "name": "ipython",
    "version": 3
   },
   "file_extension": ".py",
   "mimetype": "text/x-python",
   "name": "python",
   "nbconvert_exporter": "python",
   "pygments_lexer": "ipython3",
   "version": "3.10.4"
  },
  "orig_nbformat": 4,
  "vscode": {
   "interpreter": {
    "hash": "916dbcbb3f70747c44a77c7bcd40155683ae19c65e1c03b4aa3499c5328201f1"
   }
  }
 },
 "nbformat": 4,
 "nbformat_minor": 2
}
