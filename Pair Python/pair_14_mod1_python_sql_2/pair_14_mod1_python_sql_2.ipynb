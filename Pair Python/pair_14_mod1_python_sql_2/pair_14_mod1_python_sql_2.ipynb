{
 "cells": [
  {
   "cell_type": "code",
   "execution_count": 1,
   "metadata": {},
   "outputs": [],
   "source": [
    "import mysql.connector"
   ]
  },
  {
   "cell_type": "code",
   "execution_count": 2,
   "metadata": {},
   "outputs": [],
   "source": [
    "cnx = mysql.connector.connect(user='root', password='AlumnaAdalab',\n",
    "                              host='127.0.0.1', database='tienda')"
   ]
  },
  {
   "cell_type": "code",
   "execution_count": 3,
   "metadata": {},
   "outputs": [],
   "source": [
    "#creación de la base de datos\n",
    "mycursor = cnx.cursor()\n",
    "sql = \"CREATE DATABASE IF NOT EXISTS mi_primerita_BBDD_Python\"\n",
    "try:\n",
    "    mycursor.execute(sql)\n",
    "\n",
    "except mysql.connector.Error as err:\n",
    "    print(err)\n",
    "    print(\"Error Code:\", err.errno)\n",
    "    print(\"SQLSTATE\", err.sqlstate)\n",
    "    print(\"Message\", err.msg)"
   ]
  },
  {
   "cell_type": "code",
   "execution_count": 4,
   "metadata": {},
   "outputs": [],
   "source": [
    "#Creación de la variable con la contraseña para no tener que escribirla y creación de las variables con las querys\n",
    "contraseña='AlumnaAdalab'\n",
    "\n",
    "tabla_zapatillas= \"CREATE TABLE IF NOT EXISTS zapatillas (id_zapatillas INT NOT NULL AUTO_INCREMENT,\\\n",
    "                                            modelo VARCHAR (45) NOT NULL,\\\n",
    "                                            color VARCHAR (45) NOT NULL,\\\n",
    "                                            talla INT NOT NULL,\\\n",
    "                                            PRIMARY KEY (id_zapatillas))\"\n",
    "\n",
    "tabla_clientes= \"CREATE TABLE IF NOT EXISTS clientes (id_cliente INT NOT NULL AUTO_INCREMENT,\\\n",
    "                                        nombre VARCHAR (45) NOT NULL,\\\n",
    "                                        numero_telefono INT (9) NOT NULL,\\\n",
    "                                        email VARCHAR (45) NOT NULL,\\\n",
    "                                        direccion VARCHAR (45) NOT NULL,\\\n",
    "                                        ciudad VARCHAR (45),\\\n",
    "                                        provincia VARCHAR(45) NOT NULL,\\\n",
    "                                        pais VARCHAR (45) NOT NULL,\\\n",
    "                                        codigo_postal INT (9) NOT NULL,\\\n",
    "                                        PRIMARY KEY (id_cliente))\"\n",
    "\n",
    "tabla_empleados= \"CREATE TABLE IF NOT EXISTS empleados (id_empleado INT NOT NULL AUTO_INCREMENT,\\\n",
    "                                            nombre VARCHAR (45) NOT NULL,\\\n",
    "                                            tienda VARCHAR (45) NOT NULL,\\\n",
    "                                            salario VARCHAR (45),\\\n",
    "                                            fecha_incorporacion DATE NOT NULL,\\\n",
    "                                            PRIMARY KEY (id_empleado))\"\n",
    "\n",
    "tabla_facturas= \"CREATE TABLE IF NOT EXISTS facturas (id_factura INT NOT NULL AUTO_INCREMENT,\\\n",
    "                                        id_empleado INT NOT NULL,\\\n",
    "                                        id_cliente INT NOT NULL,\\\n",
    "                                        id_zapatillas INT NOT NULL,\\\n",
    "                                        fecha DATE NOT NULL,\\\n",
    "                                        total FLOAT NOT NULL,\\\n",
    "                                        PRIMARY KEY (id_factura),\\\n",
    "                                            CONSTRAINT `fk_id_empleado` FOREIGN KEY (id_empleado) REFERENCES empleados (id_empleado),\\\n",
    "                                            CONSTRAINT `fk_id_cliente` FOREIGN KEY (id_cliente) REFERENCES clientes (id_cliente),\\\n",
    "                                            CONSTRAINT `fk_id_zapatilla` FOREIGN KEY (id_zapatillas) REFERENCES zapatillas (id_zapatillas))\""
   ]
  },
  {
   "cell_type": "code",
   "execution_count": 5,
   "metadata": {},
   "outputs": [],
   "source": [
    "def crear_tablas (password,query):\n",
    "    cnx = mysql.connector.connect(user='root', password=password,\n",
    "                              host='127.0.0.1', database='mi_primerita_BBDD_Python')\n",
    "    mycursor= cnx.cursor()\n",
    "    try:\n",
    "        mycursor.execute(query)\n",
    "        print(\"Se creó la tabla\",mycursor)\n",
    "    except mysql.connector.Error as err:\n",
    "        print(err)\n",
    "        print(\"Error Code:\", err.errno)\n",
    "        print(\"SQLSTATE\", err.sqlstate)\n",
    "        print(\"Message\", err.msg)\n",
    "    return mycursor.close()"
   ]
  },
  {
   "cell_type": "code",
   "execution_count": null,
   "metadata": {},
   "outputs": [],
   "source": [
    "crear_tablas(contraseña,tabla_facturas)"
   ]
  },
  {
   "cell_type": "code",
   "execution_count": null,
   "metadata": {},
   "outputs": [],
   "source": [
    "crear_tablas(contraseña,tabla_clientes)"
   ]
  },
  {
   "cell_type": "code",
   "execution_count": null,
   "metadata": {},
   "outputs": [],
   "source": [
    "crear_tablas(contraseña,tabla_empleados)"
   ]
  },
  {
   "cell_type": "code",
   "execution_count": null,
   "metadata": {},
   "outputs": [],
   "source": [
    "crear_tablas(contraseña,tabla_facturas)"
   ]
  }
 ],
 "metadata": {
  "kernelspec": {
   "display_name": "Python 3.10.4 64-bit",
   "language": "python",
   "name": "python3"
  },
  "language_info": {
   "codemirror_mode": {
    "name": "ipython",
    "version": 3
   },
   "file_extension": ".py",
   "mimetype": "text/x-python",
   "name": "python",
   "nbconvert_exporter": "python",
   "pygments_lexer": "ipython3",
   "version": "3.10.4"
  },
  "orig_nbformat": 4,
  "vscode": {
   "interpreter": {
    "hash": "916dbcbb3f70747c44a77c7bcd40155683ae19c65e1c03b4aa3499c5328201f1"
   }
  }
 },
 "nbformat": 4,
 "nbformat_minor": 2
}
